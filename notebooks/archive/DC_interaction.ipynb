{
 "cells": [
  {
   "cell_type": "code",
   "execution_count": 10,
   "id": "124229cc",
   "metadata": {},
   "outputs": [],
   "source": [
    "import pandas as pd\n",
    "import numpy as np\n",
    "# interaction = pd.read_csv(\"../../data/raw/RAW_interactions.csv\")\n",
    "# pivot = interaction.pivot(index = 'user_id',columns='recipe_id', values='rating').fillna(0)\n",
    "# pivot.to_csv('data/cleaned/interactions.csv', index = False)"
   ]
  },
  {
   "cell_type": "code",
   "execution_count": 11,
   "id": "daf8e07b-160c-4bc9-86e8-090b42a94e17",
   "metadata": {},
   "outputs": [],
   "source": [
    "import sys, os, inspect\n",
    "currentdir = os.path.dirname(os.path.abspath(inspect.getfile(inspect.currentframe())))\n",
    "parentdir = os.path.dirname(currentdir)\n",
    "parentdir = os.path.dirname(parentdir)\n",
    "sys.path.insert(0, parentdir)\n",
    " \n",
    "import src.model as model"
   ]
  },
  {
   "cell_type": "code",
   "execution_count": 12,
   "id": "eb62aee4",
   "metadata": {},
   "outputs": [],
   "source": [
    "interactions = pd.read_csv(\"../../data/raw/RAW_interactions.csv\")"
   ]
  },
  {
   "cell_type": "code",
   "execution_count": 13,
   "id": "fcc02338",
   "metadata": {},
   "outputs": [],
   "source": [
    "interactions = interactions[[\"user_id\", \"recipe_id\", \"rating\"]]\n",
    "ratinglist = pd.DataFrame(interactions.groupby('user_id')[['recipe_id','rating']]. \\\n",
    "             apply(lambda x: sorted(list(x.values.tolist()), key=lambda y:y[1], reverse = True)), columns=['list'])\n",
    "ratinglist['count'] = ratinglist.apply(lambda x: len(x['list']), axis = 1)\n",
    "ratinglist = ratinglist[ratinglist['count'] >= 11].sort_values('count', ascending = False)"
   ]
  },
  {
   "cell_type": "code",
   "execution_count": 113,
   "id": "eec862e5-a654-4ae8-a047-dcc8a69ec1ee",
   "metadata": {},
   "outputs": [
    {
     "data": {
      "text/plain": [
       "array([[list([[134775, 5], [163419, 5], [54702, 5], [69407, 5], [85847, 5], [54699, 5], [63782, 5], [32522, 4], [68232, 4], [213853, 4], [209794, 4]]),\n",
       "        11],\n",
       "       [list([[33919, 5], [86125, 5], [80964, 0], [273998, 0], [133397, 0], [189389, 0], [242922, 0], [84289, 0], [188327, 0], [34110, 0], [299148, 0]]),\n",
       "        11]], dtype=object)"
      ]
     },
     "execution_count": 113,
     "metadata": {},
     "output_type": "execute_result"
    }
   ],
   "source": [
    "ratinglist[-2:].head(3).values"
   ]
  },
  {
   "cell_type": "code",
   "execution_count": 15,
   "id": "caf97683-5597-402a-ada4-8159e80156d0",
   "metadata": {},
   "outputs": [],
   "source": [
    "import src.model as model\n",
    "all_data = pd.read_csv(\"../../model/kmeans.csv\")"
   ]
  },
  {
   "cell_type": "code",
   "execution_count": 16,
   "id": "a639d7ad-8957-487c-9ef3-886f6eeb3667",
   "metadata": {},
   "outputs": [],
   "source": [
    "def get_info(row_list, all_data, idx_col = 'id'):\n",
    "    clust_index_list = [item[0] for item in row_list]\n",
    "    rating = [item[1] for item in row_list]\n",
    "    rank = [sorted(rating, reverse = True).index(x)+1 for x in rating]\n",
    "    info_df = pd.DataFrame(zip(clust_index_list, rating, rank), columns = ['id', 'rating', 'rank']) \n",
    "    cluster_data = all_data[all_data[idx_col].isin(clust_index_list)]\n",
    "    recipe_id = cluster_data[idx_col].iloc[0]\n",
    "    return recipe_id, cluster_data, info_df"
   ]
  },
  {
   "cell_type": "code",
   "execution_count": null,
   "id": "96eafe18-d8b7-4064-8564-48a609cb19c6",
   "metadata": {},
   "outputs": [],
   "source": []
  },
  {
   "cell_type": "code",
   "execution_count": 17,
   "id": "3016effc-378f-440d-92b4-4a3e633108d9",
   "metadata": {},
   "outputs": [],
   "source": [
    "def get_dcg(row):\n",
    "    return row['rating']/np.log2(row['rank'] if row['rank']>2 else 2)\n",
    "    \n",
    "def get_idcg(eval_data, top_n):\n",
    "    ratelist = eval_data.sort_values('rating', ascending = False).head(top_n)\n",
    "    idcglist = ratelist.apply(lambda x: get_dcg(x), axis = 1)\n",
    "    idcg = sum(idcglist)\n",
    "    return idcg"
   ]
  },
  {
   "cell_type": "code",
   "execution_count": 23,
   "id": "605745b2-0821-47ab-92f5-ff335cbe3df1",
   "metadata": {
    "tags": []
   },
   "outputs": [],
   "source": [
    "top_n = 10\n",
    "\n",
    "result = ratinglist['list'].apply(lambda x: get_info(x, all_data))\n",
    "ndcg_list = []\n",
    "debug = []\n",
    "\n",
    "import logging.config\n",
    "\n",
    "logger = logging.getLogger(__name__)\n",
    "logging.basicConfig(level=logging.WARNING)\n",
    "\n",
    "for recipe_id, clust_data, info_df in result:\n",
    "    if len(clust_data) > 10:\n",
    "        idxlist, namelist = model.recommend(clust_data, idx=recipe_id)\n",
    "\n",
    "        # evaluate dataset\n",
    "        eval_data = info_df[info_df['id'] != recipe_id]\n",
    "        # idcg\n",
    "        idcg = get_idcg(eval_data, top_n)\n",
    "        # dcg\n",
    "        resultlist = eval_data[eval_data['id'].isin(idxlist)]\n",
    "        dcglist = resultlist.apply(lambda x: get_dcg(x), axis = 1)\n",
    "        dcg = sum(dcglist)\n",
    "        if idcg == 0:\n",
    "            ndcg = 1\n",
    "        else:\n",
    "            ndcg = dcg/idcg\n",
    "        ndcg_list.append(ndcg)"
   ]
  },
  {
   "cell_type": "code",
   "execution_count": 24,
   "id": "3b59ef9b-7b5c-42d5-8af0-dee92195690e",
   "metadata": {},
   "outputs": [
    {
     "data": {
      "text/plain": [
       "0.7339816503840267"
      ]
     },
     "execution_count": 24,
     "metadata": {},
     "output_type": "execute_result"
    }
   ],
   "source": [
    "sum(ndcg_list)/len(ndcg_list)"
   ]
  }
 ],
 "metadata": {
  "kernelspec": {
   "display_name": "Python 3",
   "language": "python",
   "name": "python3"
  },
  "language_info": {
   "codemirror_mode": {
    "name": "ipython",
    "version": 3
   },
   "file_extension": ".py",
   "mimetype": "text/x-python",
   "name": "python",
   "nbconvert_exporter": "python",
   "pygments_lexer": "ipython3",
   "version": "3.7.10"
  }
 },
 "nbformat": 4,
 "nbformat_minor": 5
}
