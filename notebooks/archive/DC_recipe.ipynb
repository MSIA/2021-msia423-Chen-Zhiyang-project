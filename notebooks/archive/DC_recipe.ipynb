{
 "cells": [
  {
   "cell_type": "markdown",
   "id": "b1a37f95-87fd-4d1f-aa60-70d4694e7892",
   "metadata": {},
   "source": [
    "# Recipes"
   ]
  },
  {
   "cell_type": "code",
   "execution_count": 12,
   "id": "124229cc",
   "metadata": {},
   "outputs": [],
   "source": [
    "import pandas as pd\n",
    "from ast import literal_eval"
   ]
  },
  {
   "cell_type": "code",
   "execution_count": 13,
   "id": "78f67f03",
   "metadata": {},
   "outputs": [],
   "source": [
    "recipes = pd.read_csv(\"../../data/raw/RAW_recipes.csv\")"
   ]
  },
  {
   "cell_type": "markdown",
   "id": "197b4516",
   "metadata": {},
   "source": [
    "## Ingredients"
   ]
  },
  {
   "cell_type": "code",
   "execution_count": 14,
   "id": "0be2acf0-8721-4594-9bc5-fa8beccffb40",
   "metadata": {},
   "outputs": [],
   "source": [
    "recipes['ingredients'] = recipes['ingredients'].apply(literal_eval)\n",
    "ingred = recipes['ingredients']\n",
    "generallist = ['oil', 'beef', 'chicken', 'pork', 'lamb', 'garlic', 'butter', 'lemon', 'lime', 'chili',\n",
    "               'pepper', 'egg', 'flour', 'lemon', 'sugar', 'salt', 'cheese', 'onion', 'cream', 'orange']\n",
    "removelist = ['fresh ', 'ground ', 'frozen ', 'dried ']\n",
    "similarlist = {'lime': 'lemon', 'cheddar':'cheese', 'mozzarella':'cheese'}\n",
    "def clean_up(row):\n",
    "    for i, item in enumerate(row):\n",
    "        for rem in removelist:\n",
    "            if rem in item:\n",
    "                row[i] = item.replace(rem, \"\")\n",
    "        for gen in generallist:\n",
    "            if gen in item:\n",
    "                row[i] = gen\n",
    "        item = row[i]\n",
    "        for sim in similarlist:\n",
    "            if sim in item:\n",
    "                row[i] = similarlist[sim]\n",
    "        \n",
    "    return row\n",
    "ingred = ingred.apply(lambda x: clean_up(x))"
   ]
  },
  {
   "cell_type": "code",
   "execution_count": 15,
   "id": "30b34a73-0dcc-4ce3-930a-702e82375fc4",
   "metadata": {},
   "outputs": [],
   "source": [
    "inglist = ['pepper',\n",
    " 'onion',\n",
    " 'cheese',\n",
    " 'garlic',\n",
    " 'egg',\n",
    " 'butter',\n",
    " 'flour',\n",
    " 'lemon',\n",
    " 'chicken',\n",
    " 'milk',\n",
    " 'tomato',\n",
    " 'cream',\n",
    " 'baking',\n",
    " 'vanilla',\n",
    " 'cinnamon',\n",
    " 'parsley',\n",
    " 'apple',\n",
    " 'beef',\n",
    " 'potato',\n",
    " 'chili']"
   ]
  },
  {
   "cell_type": "code",
   "execution_count": 16,
   "id": "95cfec54-1017-45a4-86f2-656ffe9054af",
   "metadata": {},
   "outputs": [],
   "source": [
    "def add_ingcol(row, ing):\n",
    "    x = 1 if ing in row else 0\n",
    "    return x\n",
    "\n",
    "for ing in inglist:\n",
    "    recipes[ing] = ingred.apply(lambda x: add_ingcol(x, ing))"
   ]
  },
  {
   "cell_type": "code",
   "execution_count": 17,
   "id": "e926d605-99aa-49de-af91-629d85996852",
   "metadata": {},
   "outputs": [],
   "source": [
    "# a = dict()\n",
    "# for row in ingred:\n",
    "#     for i in row:\n",
    "#         if i not in a:\n",
    "#             a[i] = 1\n",
    "#         else:\n",
    "#             a[i]+=1\n",
    "# ingredients = pd.DataFrame(a.items(), columns = ['ingredients', 'count'])\n",
    "# inglist = ingredients.sort_values('count', ascending = False).reset_index(drop = True).head(50)"
   ]
  },
  {
   "cell_type": "code",
   "execution_count": 18,
   "id": "fc6c1282-8c5c-451b-b130-d74f9b9bf932",
   "metadata": {},
   "outputs": [
    {
     "data": {
      "text/plain": [
       "0         [winter squash, mexican seasoning, mixed spice...\n",
       "1         [prepared pizza crust, sausage patty, egg, mil...\n",
       "2         [beef, onion, diced tomatoes, tomato paste, to...\n",
       "3         [cheese, new potatoes, shallots, parsley, tarr...\n",
       "4         [tomato juice, apple cider vinegar, sugar, sal...\n",
       "                                ...                        \n",
       "231632    [celery, onion, pepper, garlic, oil, cooked ha...\n",
       "231633    [paprika, salt, garlic, onion, basil, oregano,...\n",
       "231634    [egg, mayonnaise, dijon mustard, salt, tabasco...\n",
       "231635    [butter, eagle brand condensed milk, sugar, cr...\n",
       "231636    [sugar, shortening, egg, flour, cream, baking ...\n",
       "Name: ingredients, Length: 231637, dtype: object"
      ]
     },
     "execution_count": 18,
     "metadata": {},
     "output_type": "execute_result"
    }
   ],
   "source": [
    "ingred"
   ]
  },
  {
   "cell_type": "code",
   "execution_count": null,
   "id": "d6668a48-73dd-406f-b35e-6ad83c9a7cd5",
   "metadata": {},
   "outputs": [],
   "source": []
  },
  {
   "cell_type": "markdown",
   "id": "61b46ec4",
   "metadata": {},
   "source": [
    "## Tags"
   ]
  },
  {
   "cell_type": "code",
   "execution_count": 19,
   "id": "3fa35530",
   "metadata": {},
   "outputs": [],
   "source": [
    "recipes['tags'] = recipes['tags'].apply(literal_eval)\n",
    "# a = dict()\n",
    "# for row in recipes['tags']:\n",
    "#     for i in row:\n",
    "#         if i not in a:\n",
    "#             a[i] = 1\n",
    "#         else:\n",
    "#             a[i]+=1\n",
    "# tags = pd.DataFrame(a.items(), columns = ['tag', 'count'])"
   ]
  },
  {
   "cell_type": "code",
   "execution_count": 20,
   "id": "7708ad0b-37e0-4ab6-9814-44d3bfada4f4",
   "metadata": {},
   "outputs": [],
   "source": [
    "taglist = ['dietary',\n",
    "             'easy',\n",
    "             'low-in-something',\n",
    "             'main-dish',\n",
    "             'meat',\n",
    "             'vegetables',\n",
    "             'north-american',\n",
    "             'desserts',\n",
    "             'healthy',\n",
    "             'dinner-party',\n",
    "             'vegetarian',\n",
    "             'beginner-cook',\n",
    "             'inexpensive',\n",
    "             'fruit',\n",
    "             'oven',\n",
    "             'eggs-dairy',\n",
    "             'pasta-rice-and-grains',\n",
    "             'kid-friendly',\n",
    "             'comfort-food',\n",
    "             'european']"
   ]
  },
  {
   "cell_type": "code",
   "execution_count": 21,
   "id": "c36b519b-32cb-4f6e-9ba1-299048f1fcdf",
   "metadata": {},
   "outputs": [],
   "source": [
    "def add_tagcol(row, tag):\n",
    "    x = 1 if tag in row['tags'] else 0\n",
    "    return x\n",
    "for tag in taglist:\n",
    "    recipes[tag] = recipes.apply(lambda x: add_tagcol(x, tag), axis = 1)"
   ]
  },
  {
   "cell_type": "markdown",
   "id": "bd3661a2",
   "metadata": {},
   "source": [
    "## Nutrition"
   ]
  },
  {
   "cell_type": "code",
   "execution_count": 22,
   "id": "70c74165",
   "metadata": {},
   "outputs": [],
   "source": [
    "recipes['nutrition'] = recipes['nutrition'].apply(literal_eval)"
   ]
  },
  {
   "cell_type": "code",
   "execution_count": 23,
   "id": "5b2984f7-335e-42b3-927b-5ddd1690f0f3",
   "metadata": {},
   "outputs": [],
   "source": [
    "nutrition = ['calories', 'tot_fat', 'sugar', 'sodium', 'protein', 'sat_fat', 'carb']\n",
    "def add_nutr_col(row, i):\n",
    "    return row['nutrition'][i]"
   ]
  },
  {
   "cell_type": "code",
   "execution_count": 24,
   "id": "fcc02338",
   "metadata": {},
   "outputs": [],
   "source": [
    "for i,nutr in enumerate(nutrition):\n",
    "    recipes[nutr] = recipes.apply(lambda x: add_nutr_col(x, i), axis = 1)"
   ]
  },
  {
   "cell_type": "code",
   "execution_count": 25,
   "id": "01a8c196-141a-4441-8bf0-30a4527dac53",
   "metadata": {},
   "outputs": [],
   "source": [
    "final_data = recipes.drop(['contributor_id', 'submitted', 'tags', 'nutrition', 'description', 'ingredients', 'steps'], axis = 1)"
   ]
  },
  {
   "cell_type": "code",
   "execution_count": 26,
   "id": "c8c0b3ce-475a-4570-a442-32ecdefe7ed8",
   "metadata": {},
   "outputs": [],
   "source": [
    "#final_data.to_csv('prepared_recipe.csv', index = False)"
   ]
  }
 ],
 "metadata": {
  "kernelspec": {
   "display_name": "msia423",
   "language": "python",
   "name": "msia423"
  },
  "language_info": {
   "codemirror_mode": {
    "name": "ipython",
    "version": 3
   },
   "file_extension": ".py",
   "mimetype": "text/x-python",
   "name": "python",
   "nbconvert_exporter": "python",
   "pygments_lexer": "ipython3",
   "version": "3.7.10"
  }
 },
 "nbformat": 4,
 "nbformat_minor": 5
}
