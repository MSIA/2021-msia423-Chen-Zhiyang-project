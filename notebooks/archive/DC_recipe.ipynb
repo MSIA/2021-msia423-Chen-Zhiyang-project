{
 "cells": [
  {
   "cell_type": "markdown",
   "id": "b1a37f95-87fd-4d1f-aa60-70d4694e7892",
   "metadata": {},
   "source": [
    "# Recipes"
   ]
  },
  {
   "cell_type": "code",
   "execution_count": 1,
   "id": "124229cc",
   "metadata": {},
   "outputs": [],
   "source": [
    "import pandas as pd\n",
    "from ast import literal_eval"
   ]
  },
  {
   "cell_type": "code",
   "execution_count": 2,
   "id": "78f67f03",
   "metadata": {},
   "outputs": [],
   "source": [
    "recipes = pd.read_csv(\"../../data/raw/RAW_recipes.csv\")"
   ]
  },
  {
   "cell_type": "code",
   "execution_count": 4,
   "id": "d70849b2-6f8f-4322-b01e-6b91ac1cc679",
   "metadata": {},
   "outputs": [],
   "source": [
    "import sys, os, inspect\n",
    "import yaml\n",
    "currentdir = os.path.dirname(os.path.abspath(inspect.getfile(inspect.currentframe())))\n",
    "parentdir = os.path.dirname(currentdir)\n",
    "parentdir = os.path.dirname(parentdir)\n",
    "sys.path.insert(0, parentdir)\n",
    "    \n",
    "import src.model as model"
   ]
  },
  {
   "cell_type": "code",
   "execution_count": 5,
   "id": "548da5a1-834b-49bd-ac8b-cdbaaccaf432",
   "metadata": {},
   "outputs": [],
   "source": [
    "recipe = pd.read_csv(\"../../data/clean/recipes.csv\")"
   ]
  },
  {
   "cell_type": "code",
   "execution_count": 6,
   "id": "b72b0a00-8b66-47a8-90c8-d45180d26544",
   "metadata": {},
   "outputs": [],
   "source": [
    "data = recipe.sample(10, random_state = 423)"
   ]
  },
  {
   "cell_type": "code",
   "execution_count": 7,
   "id": "458a4665-9992-4b3e-9b35-dbee53bc9087",
   "metadata": {},
   "outputs": [
    {
     "data": {
      "text/plain": [
       "Index(['name', 'id', 'minutes', 'n_steps', 'n_ingredients', 'pepper', 'onion',\n",
       "       'cheese', 'garlic', 'egg', 'butter', 'flour', 'lemon', 'chicken',\n",
       "       'milk', 'tomato', 'cream', 'baking', 'vanilla', 'cinnamon', 'parsley',\n",
       "       'apple', 'beef', 'potato', 'chili', 'dietary', 'easy',\n",
       "       'low-in-something', 'main-dish', 'meat', 'vegetables', 'north-american',\n",
       "       'desserts', 'healthy', 'dinner-party', 'vegetarian', 'beginner-cook',\n",
       "       'inexpensive', 'fruit', 'oven', 'eggs-dairy', 'pasta-rice-and-grains',\n",
       "       'kid-friendly', 'comfort-food', 'european', 'calories', 'total_fat',\n",
       "       'sugar', 'sodium', 'protein', 'saturated_fat', 'carbs'],\n",
       "      dtype='object')"
      ]
     },
     "execution_count": 7,
     "metadata": {},
     "output_type": "execute_result"
    }
   ],
   "source": [
    "data.columns"
   ]
  },
  {
   "cell_type": "code",
   "execution_count": 8,
   "id": "af67f764-498e-4504-9be2-53fd89284109",
   "metadata": {},
   "outputs": [],
   "source": [
    "droplist = ['id', 'name']\n",
    "result = model.kmeans_model(data, droplist, clust_col='cluster', n_cluster=2, seed=423)"
   ]
  },
  {
   "cell_type": "code",
   "execution_count": 12,
   "id": "35079666-9068-49cb-a288-5d21e8e1f224",
   "metadata": {},
   "outputs": [],
   "source": [
    "rest = model.recommend(result, idx = 416171, top_n = 3)"
   ]
  },
  {
   "cell_type": "code",
   "execution_count": 29,
   "id": "edffe548-5260-42ff-bbdb-8508daffc876",
   "metadata": {},
   "outputs": [],
   "source": [
    "df_in = pd.DataFrame(\n",
    "    [['pomanders', 79893, 0.0831414934994812, 0.4509096384805817,\n",
    "      -1.7498373590829115, -0.8164965809277261, -0.8164965809277261,\n",
    "      -0.8164965809277261, -0.49999999999999994, -0.6546536707079771,\n",
    "      -0.49999999999999994, 0.0, 0.0, 0.0, -0.49999999999999994,\n",
    "      -0.3333333333333333, -0.3333333333333333, 0.0,\n",
    "      -0.3333333333333333, 2.9999999999999996, 0.0,\n",
    "      -0.3333333333333333, -0.3333333333333333, -0.3333333333333333,\n",
    "      -0.3333333333333333, 0.6546536707079773, 1.0, 1.5275252316519463,\n",
    "      0.0, -0.49999999999999994, -0.5, 0.0, -0.49999999999999994,\n",
    "      -0.3333333333333333, -0.49999999999999994, -0.8164965809277261,\n",
    "      0.0, -0.49999999999999994, -0.6546536707079772,\n",
    "      -0.3333333333333333, -0.6546536707079771, -0.49999999999999994,\n",
    "      -0.49999999999999994, -0.3333333333333333, -0.49999999999999994,\n",
    "      0.6898534412176449, 1.0065837264687565, 0.5851823144009037,\n",
    "      -0.4570380104114939, -0.47019644844582864, 0.4342995181076895,\n",
    "      2.0375656161624254, 0],\n",
    "     ['green eggs and ham breakfast pizza', 214799,\n",
    "      -0.30177282825737634, 0.4509096384805817, -0.8962581595302717,\n",
    "      -0.8164965809277261, -0.8164965809277261, 1.2247448713915892,\n",
    "      -0.49999999999999994, 1.5275252316519463, -0.49999999999999994,\n",
    "      0.0, 0.0, 0.0, 1.9999999999999998, -0.3333333333333333,\n",
    "      -0.3333333333333333, 0.0, -0.3333333333333333,\n",
    "      -0.3333333333333333, 0.0, -0.3333333333333333,\n",
    "      -0.3333333333333333, -0.3333333333333333, -0.3333333333333333,\n",
    "      0.6546536707079773, 1.0, -0.6546536707079771, 0.0,\n",
    "      -0.49999999999999994, -0.5, 0.0, -0.49999999999999994,\n",
    "      2.9999999999999996, -0.49999999999999994, -0.8164965809277261,\n",
    "      0.0, 1.9999999999999998, -0.6546536707079772,\n",
    "      -0.3333333333333333, 1.5275252316519463, -0.49999999999999994,\n",
    "      1.9999999999999998, -0.3333333333333333, -0.49999999999999994,\n",
    "      -0.7126951821250425, -1.2702127976867645, -0.9331285553960357,\n",
    "      0.12332771709516495, 0.0059518537777953845, -0.6514492771615344,\n",
    "      -0.7115308500884661, 0],\n",
    "     ['frozen fruit salad dessert', 350764, 2.8545246101488555,\n",
    "      0.12883132528016628, -0.46946855975395174, -0.8164965809277261,\n",
    "      -0.8164965809277261, -0.8164965809277261, -0.49999999999999994,\n",
    "      -0.6546536707079771, -0.49999999999999994, 0.0, 0.0, 0.0,\n",
    "      -0.49999999999999994, -0.3333333333333333, 2.9999999999999996,\n",
    "      0.0, -0.3333333333333333, -0.3333333333333333, 0.0,\n",
    "      2.9999999999999996, -0.3333333333333333, -0.3333333333333333,\n",
    "      -0.3333333333333333, -1.5275252316519468, -1.0,\n",
    "      -0.6546536707079771, 0.0, -0.49999999999999994, -0.5, 0.0,\n",
    "      1.9999999999999998, -0.3333333333333333, -0.49999999999999994,\n",
    "      -0.8164965809277261, 0.0, -0.49999999999999994,\n",
    "      1.5275252316519468, -0.3333333333333333, -0.6546536707079771,\n",
    "      -0.49999999999999994, -0.49999999999999994, -0.3333333333333333,\n",
    "      -0.49999999999999994, -0.4629149937851614, -0.5512244216376526,\n",
    "      2.103493184197843, -0.8197665901031557, -1.0058632884474057,\n",
    "      0.6013377943029548, -0.06468462273531515, 0],\n",
    "     ['texas jalapeno potato salad', 305507, 0.0831414934994812,\n",
    "      -1.1594819275214954, 0.810900239575008, 1.2247448713915892,\n",
    "      1.2247448713915892, -0.8164965809277261, -0.49999999999999994,\n",
    "      1.5275252316519463, -0.49999999999999994, 0.0, 0.0, 0.0,\n",
    "      -0.49999999999999994, -0.3333333333333333, -0.3333333333333333,\n",
    "      0.0, -0.3333333333333333, -0.3333333333333333, 0.0,\n",
    "      -0.3333333333333333, -0.3333333333333333, 2.9999999999999996,\n",
    "      -0.3333333333333333, 0.6546536707079773, -1.0,\n",
    "      -0.6546536707079771, 0.0, -0.49999999999999994, -0.5, 0.0,\n",
    "      -0.49999999999999994, -0.3333333333333333, -0.49999999999999994,\n",
    "      -0.8164965809277261, 0.0, -0.49999999999999994,\n",
    "      -0.6546536707079772, -0.3333333333333333, -0.6546536707079771,\n",
    "      -0.49999999999999994, -0.49999999999999994, -0.3333333333333333,\n",
    "      -0.49999999999999994, 0.031715510756313486, 0.16776395441145928,\n",
    "      -0.6800767437632125, 0.26841914897182967, -0.47019644844582864,\n",
    "      -0.5679301390639019, -0.06468462273531515, 0],\n",
    "     ['no bake bird seed cookies', 260459, -0.5327214213114908,\n",
    "      -1.1594819275214954, -0.46946855975395174, -0.8164965809277261,\n",
    "      -0.8164965809277261, -0.8164965809277261, -0.49999999999999994,\n",
    "      -0.6546536707079771, 1.9999999999999998, 0.0, 0.0, 0.0,\n",
    "      -0.49999999999999994, -0.3333333333333333, -0.3333333333333333,\n",
    "      0.0, 2.9999999999999996, -0.3333333333333333, 0.0,\n",
    "      -0.3333333333333333, -0.3333333333333333, -0.3333333333333333,\n",
    "      -0.3333333333333333, 0.6546536707079773, 1.0, 1.5275252316519463,\n",
    "      0.0, -0.49999999999999994, -0.5, 0.0, 1.9999999999999998,\n",
    "      -0.3333333333333333, 1.9999999999999998, 1.2247448713915892, 0.0,\n",
    "      -0.49999999999999994, 1.5275252316519468, -0.3333333333333333,\n",
    "      -0.6546536707079771, 1.9999999999999998, 1.9999999999999998,\n",
    "      -0.3333333333333333, -0.49999999999999994, -1.2829170594535866,\n",
    "      -1.030550005670394, -0.5851823144009037, -0.9648580219798203,\n",
    "      -0.8273076751135466, -1.1525641057473301, -1.1966655206033292, 0],\n",
    "     ['italian muffuletta', 455325, -0.6866871500142339,\n",
    "      -0.8374036143210799, 0.810900239575008, -0.8164965809277261,\n",
    "      1.2247448713915892, 1.2247448713915892, -0.49999999999999994,\n",
    "      -0.6546536707079771, -0.49999999999999994, 0.0, 0.0, 0.0,\n",
    "      -0.49999999999999994, 2.9999999999999996, -0.3333333333333333,\n",
    "      0.0, -0.3333333333333333, -0.3333333333333333, 0.0,\n",
    "      -0.3333333333333333, -0.3333333333333333, -0.3333333333333333,\n",
    "      -0.3333333333333333, -1.5275252316519468, -1.0,\n",
    "      -0.6546536707079771, 0.0, 1.9999999999999998, -0.5, 0.0,\n",
    "      -0.49999999999999994, -0.3333333333333333, -0.49999999999999994,\n",
    "      -0.8164965809277261, 0.0, -0.49999999999999994,\n",
    "      -0.6546536707079772, -0.3333333333333333, 1.5275252316519463,\n",
    "      -0.49999999999999994, -0.49999999999999994, 2.9999999999999996,\n",
    "      1.9999999999999998, 1.1286120615251989, 1.4859093105014978,\n",
    "      -0.7749711731255212, 2.517336343060133, 1.3153596848927613,\n",
    "      1.6870865895721787, -0.06468462273531515, 1],\n",
    "     ['balsamic olive oil bread dip', 20260, -0.6097042856628624,\n",
    "      -0.19324698792024914, -0.04267895997763184, 1.2247448713915892,\n",
    "      1.2247448713915892, -0.8164965809277261, 1.9999999999999998,\n",
    "      -0.6546536707079771, -0.49999999999999994, 0.0, 0.0, 0.0,\n",
    "      -0.49999999999999994, -0.3333333333333333, -0.3333333333333333,\n",
    "      0.0, -0.3333333333333333, -0.3333333333333333, 0.0,\n",
    "      -0.3333333333333333, -0.3333333333333333, -0.3333333333333333,\n",
    "      -0.3333333333333333, 0.6546536707079773, 1.0,\n",
    "      -0.6546536707079771, 0.0, -0.49999999999999994, -0.5, 0.0,\n",
    "      -0.49999999999999994, -0.3333333333333333, 1.9999999999999998,\n",
    "      1.2247448713915892, 0.0, -0.49999999999999994,\n",
    "      -0.6546536707079772, -0.3333333333333333, -0.6546536707079771,\n",
    "      -0.49999999999999994, -0.49999999999999994, -0.3333333333333333,\n",
    "      1.9999999999999998, -1.7118159354845666, -1.1503814016785792,\n",
    "      -1.0912859376665502, -1.0374037379181527, -1.1844189017812647,\n",
    "      -1.2360832438449627, -1.6818001911181923, 0],\n",
    "     ['health nut  oatmeal', 416171, -0.37875569260874786,\n",
    "      -0.8374036143210799, -0.04267895997763184, -0.8164965809277261,\n",
    "      -0.8164965809277261, -0.8164965809277261, -0.49999999999999994,\n",
    "      -0.6546536707079771, -0.49999999999999994, 0.0, 0.0, 0.0,\n",
    "      1.9999999999999998, -0.3333333333333333, -0.3333333333333333,\n",
    "      0.0, -0.3333333333333333, -0.3333333333333333, 0.0,\n",
    "      -0.3333333333333333, -0.3333333333333333, -0.3333333333333333,\n",
    "      -0.3333333333333333, 0.6546536707079773, 1.0,\n",
    "      -0.6546536707079771, 0.0, -0.49999999999999994, -0.5, 0.0,\n",
    "      -0.49999999999999994, -0.3333333333333333, -0.49999999999999994,\n",
    "      1.2247448713915892, 0.0, -0.49999999999999994,\n",
    "      1.5275252316519468, -0.3333333333333333, -0.6546536707079771,\n",
    "      1.9999999999999998, -0.49999999999999994, -0.3333333333333333,\n",
    "      -0.49999999999999994, 0.1040203021178581, -0.5512244216376526,\n",
    "      1.0280229847583444, -0.5295837263498262, -0.05356668400015761,\n",
    "      -0.9020066914544322, 0.42045004777954803, 0],\n",
    "     ['beef and brie triple layer sandwich', 158561,\n",
    "      -0.6712905771439596, 1.0950662648814125, -0.04267895997763184,\n",
    "      1.2247448713915892, -0.8164965809277261, 1.2247448713915892,\n",
    "      -0.49999999999999994, -0.6546536707079771, -0.49999999999999994,\n",
    "      0.0, 0.0, 0.0, -0.49999999999999994, -0.3333333333333333,\n",
    "      -0.3333333333333333, 0.0, -0.3333333333333333,\n",
    "      -0.3333333333333333, 0.0, -0.3333333333333333,\n",
    "      2.9999999999999996, -0.3333333333333333, -0.3333333333333333,\n",
    "      -1.5275252316519468, -1.0, -0.6546536707079771, 0.0,\n",
    "      1.9999999999999998, 2.0, 0.0, -0.49999999999999994,\n",
    "      -0.3333333333333333, -0.49999999999999994, -0.8164965809277261,\n",
    "      0.0, -0.49999999999999994, -0.6546536707079772,\n",
    "      -0.3333333333333333, -0.6546536707079771, -0.49999999999999994,\n",
    "      -0.49999999999999994, -0.3333333333333333, -0.49999999999999994,\n",
    "      1.600236496088001, 1.3660779144933124, 0.7433396966714183,\n",
    "      0.41351058084849435, 2.0891006760061503, 0.3507803800100569,\n",
    "      0.7438731614561235, 1],\n",
    "     ['chilean butternut squash casserole', 82191, 0.16012435785085272,\n",
    "      2.0613012044826586, 2.0912690389039676, 1.2247448713915892,\n",
    "      1.2247448713915892, 1.2247448713915892, 1.9999999999999998,\n",
    "      1.5275252316519463, 1.9999999999999998, 0.0, 0.0, 0.0,\n",
    "      -0.49999999999999994, -0.3333333333333333, -0.3333333333333333,\n",
    "      0.0, -0.3333333333333333, -0.3333333333333333, 0.0,\n",
    "      -0.3333333333333333, -0.3333333333333333, -0.3333333333333333,\n",
    "      2.9999999999999996, 0.6546536707079773, -1.0, 1.5275252316519463,\n",
    "      0.0, -0.49999999999999994, 2.0, 0.0, -0.49999999999999994,\n",
    "      -0.3333333333333333, -0.49999999999999994, 1.2247448713915892,\n",
    "      0.0, 1.9999999999999998, -0.6546536707079772, 2.9999999999999996,\n",
    "      1.5275252316519463, -0.49999999999999994, -0.49999999999999994,\n",
    "      -0.3333333333333333, -0.49999999999999994, 0.6159053591433381,\n",
    "      0.5272581424360152, -0.3953934556762863, 0.4860562967868267,\n",
    "      0.6011372315573253, 1.4365291752792808, 0.5821616046178357, 1]],\n",
    "    columns=['name', 'id', 'minutes', 'n_steps', 'n_ingredients', 'pepper', 'onion',\n",
    "             'cheese', 'garlic', 'egg', 'butter', 'flour', 'lemon', 'chicken',\n",
    "             'milk', 'tomato', 'cream', 'baking', 'vanilla', 'cinnamon', 'parsley',\n",
    "             'apple', 'beef', 'potato', 'chili', 'dietary', 'easy',\n",
    "             'low-in-something', 'main-dish', 'meat', 'vegetables', 'north-american',\n",
    "             'desserts', 'healthy', 'dinner-party', 'vegetarian', 'beginner-cook',\n",
    "             'inexpensive', 'fruit', 'oven', 'eggs-dairy', 'pasta-rice-and-grains',\n",
    "             'kid-friendly', 'comfort-food', 'european', 'calories', 'total_fat',\n",
    "             'sugar', 'sodium', 'protein', 'saturated_fat', 'carbs', 'cluster'], index=list(range(0, 10)))\n",
    "df_in['cluster'] = df_in['cluster'].astype('int32')\n",
    "\n",
    "index_true = np.array([7, 4, 0])\n",
    "name_true = ['health nut  oatmeal', 'no bake bird seed cookies', 'pomanders']\n",
    "\n",
    "# Compute test output\n",
    "index_test, name_test = model.recommend(df_in, idx=416171, top_n=3)"
   ]
  },
  {
   "cell_type": "code",
   "execution_count": 34,
   "id": "a1a370bc-764c-4014-8017-04840e1f4c67",
   "metadata": {},
   "outputs": [
    {
     "data": {
      "text/plain": [
       "True"
      ]
     },
     "execution_count": 34,
     "metadata": {},
     "output_type": "execute_result"
    }
   ],
   "source": [
    "all(index_true ==index_test)"
   ]
  },
  {
   "cell_type": "markdown",
   "id": "197b4516",
   "metadata": {},
   "source": [
    "## Ingredients"
   ]
  },
  {
   "cell_type": "code",
   "execution_count": 3,
   "id": "2770e2b6-74c1-41cc-8723-6eac0fcd61c9",
   "metadata": {},
   "outputs": [],
   "source": [
    "recipes['ingredients'] = recipes['ingredients'].apply(literal_eval)\n",
    "ingred = recipes['ingredients'].copy()"
   ]
  },
  {
   "cell_type": "code",
   "execution_count": 14,
   "id": "0be2acf0-8721-4594-9bc5-fa8beccffb40",
   "metadata": {},
   "outputs": [],
   "source": [
    "generallist = ['oil', 'beef', 'chicken', 'pork', 'lamb', 'garlic', 'butter', 'lemon', 'lime', 'chili',\n",
    "               'pepper', 'egg', 'flour', 'lemon', 'sugar', 'salt', 'cheese', 'onion', 'cream', 'orange']\n",
    "removelist = ['fresh ', 'ground ', 'frozen ', 'dried ']\n",
    "similarlist = {'lime': 'lemon', 'cheddar':'cheese', 'mozzarella':'cheese'}\n",
    "def clean_up(row):\n",
    "    for i, item in enumerate(row):\n",
    "        for rem in removelist:\n",
    "            if rem in item:\n",
    "                row[i] = item.replace(rem, \"\")\n",
    "        for gen in generallist:\n",
    "            if gen in item:\n",
    "                row[i] = gen\n",
    "        item = row[i]\n",
    "        for sim in similarlist:\n",
    "            if sim in item:\n",
    "                row[i] = similarlist[sim]\n",
    "        \n",
    "    return row\n",
    "ingred = ingred.apply(lambda x: clean_up(x))"
   ]
  },
  {
   "cell_type": "code",
   "execution_count": 15,
   "id": "30b34a73-0dcc-4ce3-930a-702e82375fc4",
   "metadata": {},
   "outputs": [],
   "source": [
    "inglist = ['pepper',\n",
    " 'onion',\n",
    " 'cheese',\n",
    " 'garlic',\n",
    " 'egg',\n",
    " 'butter',\n",
    " 'flour',\n",
    " 'lemon',\n",
    " 'chicken',\n",
    " 'milk',\n",
    " 'tomato',\n",
    " 'cream',\n",
    " 'baking',\n",
    " 'vanilla',\n",
    " 'cinnamon',\n",
    " 'parsley',\n",
    " 'apple',\n",
    " 'beef',\n",
    " 'potato',\n",
    " 'chili']"
   ]
  },
  {
   "cell_type": "code",
   "execution_count": 16,
   "id": "95cfec54-1017-45a4-86f2-656ffe9054af",
   "metadata": {},
   "outputs": [],
   "source": [
    "def add_ingcol(row, ing):\n",
    "    x = 1 if ing in row else 0\n",
    "    return x\n",
    "\n",
    "for ing in inglist:\n",
    "    recipes[ing] = ingred.apply(lambda x: add_ingcol(x, ing))"
   ]
  },
  {
   "cell_type": "code",
   "execution_count": 17,
   "id": "e926d605-99aa-49de-af91-629d85996852",
   "metadata": {},
   "outputs": [],
   "source": [
    "# a = dict()\n",
    "# for row in ingred:\n",
    "#     for i in row:\n",
    "#         if i not in a:\n",
    "#             a[i] = 1\n",
    "#         else:\n",
    "#             a[i]+=1\n",
    "# ingredients = pd.DataFrame(a.items(), columns = ['ingredients', 'count'])\n",
    "# inglist = ingredients.sort_values('count', ascending = False).reset_index(drop = True).head(50)"
   ]
  },
  {
   "cell_type": "code",
   "execution_count": 18,
   "id": "fc6c1282-8c5c-451b-b130-d74f9b9bf932",
   "metadata": {},
   "outputs": [
    {
     "data": {
      "text/plain": [
       "0         [winter squash, mexican seasoning, mixed spice...\n",
       "1         [prepared pizza crust, sausage patty, egg, mil...\n",
       "2         [beef, onion, diced tomatoes, tomato paste, to...\n",
       "3         [cheese, new potatoes, shallots, parsley, tarr...\n",
       "4         [tomato juice, apple cider vinegar, sugar, sal...\n",
       "                                ...                        \n",
       "231632    [celery, onion, pepper, garlic, oil, cooked ha...\n",
       "231633    [paprika, salt, garlic, onion, basil, oregano,...\n",
       "231634    [egg, mayonnaise, dijon mustard, salt, tabasco...\n",
       "231635    [butter, eagle brand condensed milk, sugar, cr...\n",
       "231636    [sugar, shortening, egg, flour, cream, baking ...\n",
       "Name: ingredients, Length: 231637, dtype: object"
      ]
     },
     "execution_count": 18,
     "metadata": {},
     "output_type": "execute_result"
    }
   ],
   "source": [
    "ingred"
   ]
  },
  {
   "cell_type": "code",
   "execution_count": null,
   "id": "d6668a48-73dd-406f-b35e-6ad83c9a7cd5",
   "metadata": {},
   "outputs": [],
   "source": []
  },
  {
   "cell_type": "markdown",
   "id": "61b46ec4",
   "metadata": {},
   "source": [
    "## Tags"
   ]
  },
  {
   "cell_type": "code",
   "execution_count": 19,
   "id": "3fa35530",
   "metadata": {},
   "outputs": [],
   "source": [
    "recipes['tags'] = recipes['tags'].apply(literal_eval)\n",
    "# a = dict()\n",
    "# for row in recipes['tags']:\n",
    "#     for i in row:\n",
    "#         if i not in a:\n",
    "#             a[i] = 1\n",
    "#         else:\n",
    "#             a[i]+=1\n",
    "# tags = pd.DataFrame(a.items(), columns = ['tag', 'count'])"
   ]
  },
  {
   "cell_type": "code",
   "execution_count": 20,
   "id": "7708ad0b-37e0-4ab6-9814-44d3bfada4f4",
   "metadata": {},
   "outputs": [],
   "source": [
    "taglist = ['dietary',\n",
    "             'easy',\n",
    "             'low-in-something',\n",
    "             'main-dish',\n",
    "             'meat',\n",
    "             'vegetables',\n",
    "             'north-american',\n",
    "             'desserts',\n",
    "             'healthy',\n",
    "             'dinner-party',\n",
    "             'vegetarian',\n",
    "             'beginner-cook',\n",
    "             'inexpensive',\n",
    "             'fruit',\n",
    "             'oven',\n",
    "             'eggs-dairy',\n",
    "             'pasta-rice-and-grains',\n",
    "             'kid-friendly',\n",
    "             'comfort-food',\n",
    "             'european']"
   ]
  },
  {
   "cell_type": "code",
   "execution_count": 21,
   "id": "c36b519b-32cb-4f6e-9ba1-299048f1fcdf",
   "metadata": {},
   "outputs": [],
   "source": [
    "def add_tagcol(row, tag):\n",
    "    x = 1 if tag in row['tags'] else 0\n",
    "    return x\n",
    "for tag in taglist:\n",
    "    recipes[tag] = recipes.apply(lambda x: add_tagcol(x, tag), axis = 1)"
   ]
  },
  {
   "cell_type": "markdown",
   "id": "bd3661a2",
   "metadata": {},
   "source": [
    "## Nutrition"
   ]
  },
  {
   "cell_type": "code",
   "execution_count": 22,
   "id": "70c74165",
   "metadata": {},
   "outputs": [],
   "source": [
    "recipes['nutrition'] = recipes['nutrition'].apply(literal_eval)"
   ]
  },
  {
   "cell_type": "code",
   "execution_count": 23,
   "id": "5b2984f7-335e-42b3-927b-5ddd1690f0f3",
   "metadata": {},
   "outputs": [],
   "source": [
    "nutrition = ['calories', 'tot_fat', 'sugar', 'sodium', 'protein', 'sat_fat', 'carb']\n",
    "def add_nutr_col(row, i):\n",
    "    return row['nutrition'][i]"
   ]
  },
  {
   "cell_type": "code",
   "execution_count": 24,
   "id": "fcc02338",
   "metadata": {},
   "outputs": [],
   "source": [
    "for i,nutr in enumerate(nutrition):\n",
    "    recipes[nutr] = recipes.apply(lambda x: add_nutr_col(x, i), axis = 1)"
   ]
  },
  {
   "cell_type": "code",
   "execution_count": 25,
   "id": "01a8c196-141a-4441-8bf0-30a4527dac53",
   "metadata": {},
   "outputs": [],
   "source": [
    "final_data = recipes.drop(['contributor_id', 'submitted', 'tags', 'nutrition', 'description', 'ingredients', 'steps'], axis = 1)"
   ]
  },
  {
   "cell_type": "code",
   "execution_count": 26,
   "id": "c8c0b3ce-475a-4570-a442-32ecdefe7ed8",
   "metadata": {},
   "outputs": [],
   "source": [
    "#final_data.to_csv('prepared_recipe.csv', index = False)"
   ]
  }
 ],
 "metadata": {
  "kernelspec": {
   "display_name": "msia423",
   "language": "python",
   "name": "msia423"
  },
  "language_info": {
   "codemirror_mode": {
    "name": "ipython",
    "version": 3
   },
   "file_extension": ".py",
   "mimetype": "text/x-python",
   "name": "python",
   "nbconvert_exporter": "python",
   "pygments_lexer": "ipython3",
   "version": "3.7.10"
  }
 },
 "nbformat": 4,
 "nbformat_minor": 5
}
